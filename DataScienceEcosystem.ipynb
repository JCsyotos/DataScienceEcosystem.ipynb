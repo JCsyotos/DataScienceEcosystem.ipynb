{
 "cells": [
  {
   "cell_type": "markdown",
   "id": "a38ee09c-495e-4452-847c-d2877779e31e",
   "metadata": {},
   "source": [
    "# Data Science Tools and Ecosystem"
   ]
  },
  {
   "cell_type": "markdown",
   "id": "fc06039f-b6d1-488a-badc-2812c54325fa",
   "metadata": {},
   "source": [
    "**In this notebook, Data Science Tools and Ecosystem are summarized.**"
   ]
  },
  {
   "cell_type": "markdown",
   "id": "81633845-d135-4712-81b3-edf93b8bd0dc",
   "metadata": {},
   "source": [
    "** Objectives:\n",
    "\n",
    "- Data Languages\n",
    "- Data Libraries\n",
    "- Data Tools\n",
    "- Arithmetic Expressions\n"
   ]
  },
  {
   "cell_type": "markdown",
   "id": "f173532c-9a7a-43a7-817c-cd7bbb30b6d3",
   "metadata": {},
   "source": [
    "Some of the popular languages that Data Scientists use are:\n",
    "\n",
    "1. Python\n",
    "2. R\n",
    "3. SQL\n",
    "4. C++\n",
    "5. Julia\n"
   ]
  },
  {
   "cell_type": "markdown",
   "id": "92d72a77-3b52-43c3-9249-9fd67cbb33eb",
   "metadata": {},
   "source": [
    "Some of the commonly used libraries used by Data Scientists include:\n",
    "\n",
    "1. NumPy\n",
    "2. Pandas\n",
    "3. TensorFlow\n",
    "4. Seaborn\n",
    "5. SciPy\n"
   ]
  },
  {
   "cell_type": "markdown",
   "id": "2fa28d87-a589-4667-b5ab-87e493aaeb8a",
   "metadata": {},
   "source": [
    "| Data Science Tools |\n",
    "| ------------------ |\n",
    "| Apache Hadoop |\n",
    "| Apache Spark |\n",
    "| RStudio |\n"
   ]
  },
  {
   "cell_type": "markdown",
   "id": "54d123e9-264f-4c57-8da2-ea31fc38b253",
   "metadata": {},
   "source": [
    "### Below are a few examples of evaluating arithmetic expressions in Python.\n"
   ]
  },
  {
   "cell_type": "markdown",
   "id": "3d6d5d54-a0e7-44d6-980e-b18baa6fd246",
   "metadata": {},
   "source": [
    "This is a simple arithmetic expression to mutiply then add integers."
   ]
  },
  {
   "cell_type": "code",
   "execution_count": 1,
   "id": "a5c6c070-c1c2-4925-8044-ea2dbb9372c3",
   "metadata": {},
   "outputs": [
    {
     "data": {
      "text/plain": [
       "17"
      ]
     },
     "execution_count": 1,
     "metadata": {},
     "output_type": "execute_result"
    }
   ],
   "source": [
    "(3*4)+5"
   ]
  },
  {
   "cell_type": "markdown",
   "id": "a772cb92-6a97-4f13-9e97-c3eac903eb09",
   "metadata": {},
   "source": [
    "This will convert 200 minutees to hours by diving by 60."
   ]
  },
  {
   "cell_type": "code",
   "execution_count": 2,
   "id": "6a8fe94c-6edb-45dd-993e-b0eb2ddf03ab",
   "metadata": {},
   "outputs": [
    {
     "name": "stdout",
     "output_type": "stream",
     "text": [
      "3.3333333333333335\n"
     ]
    }
   ],
   "source": [
    "minutes = 200\n",
    "hours = minutes / 60\n",
    "print(hours) # output: 2.0\n"
   ]
  },
  {
   "cell_type": "markdown",
   "id": "b6cc44ee-3b07-4e29-8b21-b5663a64b4d0",
   "metadata": {},
   "source": [
    "## Author\n",
    "Jason Cook\n"
   ]
  },
  {
   "cell_type": "code",
   "execution_count": null,
   "id": "2e87203d-3e2d-4cd7-a62e-de8b792b6323",
   "metadata": {},
   "outputs": [],
   "source": []
  }
 ],
 "metadata": {
  "kernelspec": {
   "display_name": "Python [conda env:base] *",
   "language": "python",
   "name": "conda-base-py"
  },
  "language_info": {
   "codemirror_mode": {
    "name": "ipython",
    "version": 3
   },
   "file_extension": ".py",
   "mimetype": "text/x-python",
   "name": "python",
   "nbconvert_exporter": "python",
   "pygments_lexer": "ipython3",
   "version": "3.12.7"
  }
 },
 "nbformat": 4,
 "nbformat_minor": 5
}
